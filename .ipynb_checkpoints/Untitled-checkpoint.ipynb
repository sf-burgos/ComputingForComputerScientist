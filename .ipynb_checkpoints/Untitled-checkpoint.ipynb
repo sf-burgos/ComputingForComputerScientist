{
 "cells": [
  {
   "cell_type": "markdown",
   "metadata": {},
   "source": [
    "<div style=\"text-align: center\">\n",
    "\n",
    "## Demo de simuladores de sistemas Dinamicos\n",
    "\n",
    "<div/>"
   ]
  },
  {
   "cell_type": "markdown",
   "metadata": {},
   "source": [
    "sistema clasico:"
   ]
  },
  {
   "cell_type": "markdown",
   "metadata": {},
   "source": [
    "<div style=\"text-align: center\">\n",
    "esta es una ilustracion de nuestro sistema\n",
    "<div/>"
   ]
  },
  {
   "cell_type": "markdown",
   "metadata": {},
   "source": [
    "<img src=\"grafo.jpg\"\n",
    "style=\"float:center\"\n",
    "width=\"80%/\">"
   ]
  },
  {
   "cell_type": "markdown",
   "metadata": {},
   "source": [
    "<div style=\"text-align: center\">\n",
    "esta es la matriz de adyacencia asociada al sistema\n",
    "<div/>"
   ]
  },
  {
   "cell_type": "markdown",
   "metadata": {},
   "source": [
    "<div style=\"text-align: center\">\n",
    "$$\n",
    "M=\n",
    "\\begin{bmatrix}\n",
    "0 & 0 & 0 & 0 & 0 & 0 \\\\\n",
    "0 & 0 & 0 & 0 & 0 & 0 \\\\\n",
    "0 & 1 & 0 & 0 & 0 & 1 \\\\\n",
    "0 & 0 & 0 & 1 & 0 & 0 \\\\\n",
    "0 & 0 & 1 & 0 & 0 & 0\\\\\n",
    "1 & 0 & 0 & 0 & 1 & 0 \\\\\n",
    "\\end{bmatrix}\n",
    "$$\n",
    "<div/>"
   ]
  },
  {
   "cell_type": "markdown",
   "metadata": {},
   "source": [
    "<div style=\"text-align: center\">\n",
    "vector de estado inicial\n",
    "<div/>\n"
   ]
  },
  {
   "cell_type": "markdown",
   "metadata": {},
   "source": [
    "<div style=\"text-align: center\">\n",
    "$$\n",
    "\\begin{bmatrix}\n",
    "0 \\\\\n",
    "0 \\\\ \n",
    "1 \\\\ \n",
    "0 \\\\ \n",
    "0 \\\\ \n",
    "0 \n",
    "\\end{bmatrix}\n",
    "$$\n",
    "<div/>"
   ]
  },
  {
   "cell_type": "markdown",
   "metadata": {},
   "source": [
    "<div style=\"text-align: center\">\n",
    "\n",
    "## Sistemas probabilisticos\n",
    "\n",
    "<div/>"
   ]
  },
  {
   "cell_type": "markdown",
   "metadata": {},
   "source": [
    "<div style=\"text-align: center\">\n",
    "\n",
    "### Personaje\n",
    "\n",
    "<div/>\n",
    "\n",
    "<div style=\"text-align: center\">\n",
    "$$\n",
    "N=\n",
    "\\begin{bmatrix}\n",
    "0 & 0.61 & 0.39\\\\\n",
    "0.5 & 0.09 & 0.41\\\\\n",
    "0.56 & 0.3 & 0.2\n",
    "\\end{bmatrix}\n",
    "$$\n",
    "<div/>\n",
    "\n",
    "<div style=\"text-align: center\">\n",
    "\n",
    "### Posicion \n",
    "\n",
    "<div/>\n",
    "\n",
    "$$\n",
    "M=\n",
    "\\begin{bmatrix}\n",
    "\\cfrac{7}{34} & \\cfrac{14}{34} & \\cfrac{4}{34} & \\cfrac{9}{34}\\\\\n",
    "\\cfrac{15}{34} & \\cfrac{6}{34} & \\cfrac{12}{34} & \\cfrac{1}{34}\\\\\n",
    "\\cfrac{2}{34} & \\cfrac{3}{34} & \\cfrac{13}{34} & \\cfrac{16}{34}\\\\\n",
    "\\cfrac{10}{34} & \\cfrac{11}{34} & \\cfrac{5}{34} & \\cfrac{8}{34}\n",
    "\\end{bmatrix}\n",
    "$$\n",
    "      \n",
    "        "
   ]
  },
  {
   "cell_type": "markdown",
   "metadata": {},
   "source": [
    "Ahora por medio de codigo en python, se mostrara el ensamble de los dos sistemas, y se graficara la evolucion dinamica del sistema segun el numero de clicks de tiempo. "
   ]
  },
  {
   "cell_type": "code",
   "execution_count": 33,
   "metadata": {},
   "outputs": [],
   "source": [
    "import libreria as c;\n",
    "import exam as ex;"
   ]
  },
  {
   "cell_type": "code",
   "execution_count": 24,
   "metadata": {
    "scrolled": true
   },
   "outputs": [
    {
     "name": "stdout",
     "output_type": "stream",
     "text": [
      "12\n"
     ]
    },
    {
     "data": {
      "image/png": "[encoded data removed]",
      "text/plain": [
       "<Figure size 432x288 with 1 Axes>"
      ]
     },
     "metadata": {
      "needs_background": "light"
     },
     "output_type": "display_data"
    }
   ],
   "source": [
    "N = [[[0,0],[0.61,0],[0.9,0]],[[0.5,0],[0.09,0],[0.41,0]],[[0.5,0],[0.3,0],[0.2,0]]];\n",
    "M = [[[7/34,0],[14/34,0],[4/34,0],[9/34,0]],[[15/34,0],[6/34,0],[12/34,0],[1/34,0]],[[2/34,0],[3/34,0],[13/34,0],[16/34,0]],[[10/34,0],[11/34,0],[5/34,0],[8/34,0]]];\n",
    "resultadoTensorialDeEnsamble=c.productoTensorialImaginario(M,N);\n",
    "vectorPosicionN = [[[0,0],[1,0],[0,0]]];vectorPosicionM = [[[0,0],[0,0],[1,0],[0,0]]]\n",
    "\n",
    "resultadoTensorialDePosicion = c.productoTensorialImaginario(vectorPosicionN,vectorPosicionM);\n",
    "clicks = 1;\n",
    "ex.sistemasProbabilisticosDinamicos(resultadoTensorialDeEnsamble,resultadoTensorialDePosicion,clicks);\n",
    "\n",
    "\n"
   ]
  },
  {
   "cell_type": "markdown",
   "metadata": {},
   "source": [
    "<div style=\"text-align: center\">\n",
    "\n",
    "## Sistemas cuanticos\n",
    "\n",
    "<div/>"
   ]
  },
  {
   "cell_type": "markdown",
   "metadata": {},
   "source": [
    "<div style=\"text-align: center\">\n",
    "esta es una ilustracion de nuestro sistema cuantico:\n",
    "<div/>\n"
   ]
  },
  {
   "cell_type": "markdown",
   "metadata": {},
   "source": [
    "<img src=\"grafo2.jpg\"\n",
    "style=\"float:center\"\n",
    "width=\"80%/\">"
   ]
  },
  {
   "cell_type": "markdown",
   "metadata": {},
   "source": [
    "<div style=\"text-align: center\">\n",
    "esta es la matriz de adyacencia asociada al sistema\n",
    "<div/>"
   ]
  },
  {
   "cell_type": "markdown",
   "metadata": {},
   "source": [
    "<div style=\"text-align: center\">\n",
    "$$\n",
    "M=\n",
    "\\begin{bmatrix}\n",
    "0 & \\cfrac{1}{{\\sqrt{2}}} &  \\cfrac{1}{{\\sqrt{2}}} & 0\\\\\n",
    "\\cfrac{1}{{\\sqrt{2}}} & 0 & 0 &  \\cfrac{-1}{{\\sqrt{2}}}\\\\\n",
    "\\cfrac{1}{{\\sqrt{2}}} & 0 & 0 &  \\cfrac{1}{{\\sqrt{2}}}\\\\\n",
    "0 & \\cfrac{-1}{{\\sqrt{2}}} &  \\cfrac{1}{{\\sqrt{2}}} & 0\n",
    "\\end{bmatrix}\n",
    "$$\n",
    "<div/>"
   ]
  },
  {
   "cell_type": "markdown",
   "metadata": {},
   "source": [
    "<div style=\"text-align: center\">\n",
    "vector de estado inicial\n",
    "<div/>"
   ]
  },
  {
   "cell_type": "markdown",
   "metadata": {},
   "source": [
    "<div style=\"text-align: center\">\n",
    "$$\n",
    "V=\n",
    "\\begin{bmatrix}\n",
    "\\frac{-1+i}{\\sqrt{8}} \\\\\n",
    "\\frac{1-i}{\\sqrt{8}} \\\\ \n",
    "0 \\\\ \n",
    "\\frac{i}{\\sqrt{2}} \n",
    "\\end{bmatrix}\n",
    "$$\n",
    "<div/>"
   ]
  },
  {
   "cell_type": "code",
   "execution_count": 35,
   "metadata": {},
   "outputs": [
    {
     "ename": "SyntaxError",
     "evalue": "invalid syntax (<ipython-input-35-9b02f4b3beac>, line 4)",
     "output_type": "error",
     "traceback": [
      "\u001b[1;36m  File \u001b[1;32m\"<ipython-input-35-9b02f4b3beac>\"\u001b[1;36m, line \u001b[1;32m4\u001b[0m\n\u001b[1;33m    clicks = 2;\u001b[0m\n\u001b[1;37m         ^\u001b[0m\n\u001b[1;31mSyntaxError\u001b[0m\u001b[1;31m:\u001b[0m invalid syntax\n"
     ]
    }
   ],
   "source": [
    "from math import *;\n",
    "M = [[[0,0],[1/sqrt(2),0],[1/sqrt(2),0],[0,0]],[[1/sqrt(2),0],[0,0],[0,0],[-1/sqrt(2),0]],[[1/sqrt(2),0],[0,0],[0,0],[1/sqrt(2),0]],[[0,0],[-1/sqrt(2),0],[1/sqrt(2),0],[0,0]]];\n",
    "V = [[[0,0],[0,1],[0,0],[0,0]]\n",
    "clicks = 2;\n",
    "ex.sistemasProbabilisticosDinamicos(M,V,clicks);\n",
    "\n"
   ]
  }
 ],
 "metadata": {
  "kernelspec": {
   "display_name": "Python 3",
   "language": "python",
   "name": "python3"
  },
  "language_info": {
   "codemirror_mode": {
    "name": "ipython",
    "version": 3
   },
   "file_extension": ".py",
   "mimetype": "text/x-python",
   "name": "python",
   "nbconvert_exporter": "python",
   "pygments_lexer": "ipython3",
   "version": "3.7.4"
  }
 },
 "nbformat": 4,
 "nbformat_minor": 2
}
